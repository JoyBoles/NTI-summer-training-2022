{
 "cells": [
  {
   "cell_type": "code",
   "execution_count": 1,
   "id": "1ae63cbb",
   "metadata": {},
   "outputs": [],
   "source": [
    "import tensorflow as tf"
   ]
  },
  {
   "cell_type": "code",
   "execution_count": 2,
   "id": "a956606c",
   "metadata": {},
   "outputs": [],
   "source": [
    "cifar_10_Dataset=tf.keras.datasets.cifar10\n",
    "(training_images, training_labels),(test_images, test_labels)=cifar_10_Dataset.load_data()"
   ]
  },
  {
   "cell_type": "code",
   "execution_count": 3,
   "id": "82e68134",
   "metadata": {},
   "outputs": [
    {
     "data": {
      "text/plain": [
       "(50000, 32, 32, 3)"
      ]
     },
     "execution_count": 3,
     "metadata": {},
     "output_type": "execute_result"
    }
   ],
   "source": [
    "training_images.shape"
   ]
  },
  {
   "cell_type": "code",
   "execution_count": 4,
   "id": "20512553",
   "metadata": {},
   "outputs": [
    {
     "data": {
      "text/plain": [
       "(50000, 1)"
      ]
     },
     "execution_count": 4,
     "metadata": {},
     "output_type": "execute_result"
    }
   ],
   "source": [
    "training_labels.shape"
   ]
  },
  {
   "cell_type": "code",
   "execution_count": 5,
   "id": "204ffbb5",
   "metadata": {},
   "outputs": [
    {
     "data": {
      "text/plain": [
       "(10000, 32, 32, 3)"
      ]
     },
     "execution_count": 5,
     "metadata": {},
     "output_type": "execute_result"
    }
   ],
   "source": [
    "test_images.shape"
   ]
  },
  {
   "cell_type": "code",
   "execution_count": 6,
   "id": "2f305797",
   "metadata": {},
   "outputs": [
    {
     "data": {
      "text/plain": [
       "(10000, 1)"
      ]
     },
     "execution_count": 6,
     "metadata": {},
     "output_type": "execute_result"
    }
   ],
   "source": [
    "test_labels.shape"
   ]
  },
  {
   "cell_type": "code",
   "execution_count": 7,
   "id": "e15d5798",
   "metadata": {},
   "outputs": [
    {
     "data": {
      "text/plain": [
       "9"
      ]
     },
     "execution_count": 7,
     "metadata": {},
     "output_type": "execute_result"
    }
   ],
   "source": [
    "training_labels.max()"
   ]
  },
  {
   "cell_type": "code",
   "execution_count": 8,
   "id": "ac167a30",
   "metadata": {},
   "outputs": [
    {
     "data": {
      "text/plain": [
       "0"
      ]
     },
     "execution_count": 8,
     "metadata": {},
     "output_type": "execute_result"
    }
   ],
   "source": [
    "training_labels.min()"
   ]
  },
  {
   "cell_type": "code",
   "execution_count": 9,
   "id": "2ed267cc",
   "metadata": {},
   "outputs": [],
   "source": [
    "import matplotlib.pyplot as plt"
   ]
  },
  {
   "cell_type": "code",
   "execution_count": 10,
   "id": "9be602bc",
   "metadata": {},
   "outputs": [
    {
     "data": {
      "text/plain": [
       "<matplotlib.image.AxesImage at 0x28f72c985e0>"
      ]
     },
     "execution_count": 10,
     "metadata": {},
     "output_type": "execute_result"
    },
    {
     "data": {
      "image/png": "[encoded data removed]",
      "text/plain": [
       "<Figure size 432x288 with 1 Axes>"
      ]
     },
     "metadata": {
      "needs_background": "light"
     },
     "output_type": "display_data"
    }
   ],
   "source": [
    "plt.imshow(training_images[1000])"
   ]
  },
  {
   "cell_type": "code",
   "execution_count": 11,
   "id": "1cce10b2",
   "metadata": {},
   "outputs": [],
   "source": [
    "training_images=training_images/training_images.max()"
   ]
  },
  {
   "cell_type": "code",
   "execution_count": 12,
   "id": "0719112b",
   "metadata": {},
   "outputs": [],
   "source": [
    "test_images=test_images/test_images.max()"
   ]
  },
  {
   "cell_type": "code",
   "execution_count": 23,
   "id": "7a5313d7",
   "metadata": {},
   "outputs": [],
   "source": [
    "model=tf.keras.Sequential()"
   ]
  },
  {
   "cell_type": "code",
   "execution_count": 24,
   "id": "d8d1d247",
   "metadata": {},
   "outputs": [],
   "source": [
    "model.add(tf.keras.layers.Conv2D(28,3,input_shape=(32,32,3),activation='relu'))"
   ]
  },
  {
   "cell_type": "code",
   "execution_count": 25,
   "id": "cade0e66",
   "metadata": {},
   "outputs": [],
   "source": [
    "model.add(tf.keras.layers.MaxPool2D())"
   ]
  },
  {
   "cell_type": "code",
   "execution_count": 26,
   "id": "7e14beab",
   "metadata": {},
   "outputs": [],
   "source": [
    "model.add(tf.keras.layers.Dropout(0.25,)) #we can also specify seed to choose the same weights each epoch"
   ]
  },
  {
   "cell_type": "code",
   "execution_count": 27,
   "id": "1917a09b",
   "metadata": {},
   "outputs": [],
   "source": [
    "model.add(tf.keras.layers.Flatten())"
   ]
  },
  {
   "cell_type": "code",
   "execution_count": 28,
   "id": "3511a2db",
   "metadata": {},
   "outputs": [],
   "source": [
    "model.add(tf.keras.layers.Dense(128, activation='relu'))"
   ]
  },
  {
   "cell_type": "code",
   "execution_count": 29,
   "id": "c534dc59",
   "metadata": {},
   "outputs": [],
   "source": [
    "model.add(tf.keras.layers.Dense(10))"
   ]
  },
  {
   "cell_type": "code",
   "execution_count": 30,
   "id": "dac7a601",
   "metadata": {},
   "outputs": [
    {
     "name": "stdout",
     "output_type": "stream",
     "text": [
      "Model: \"sequential_1\"\n",
      "_________________________________________________________________\n",
      " Layer (type)                Output Shape              Param #   \n",
      "=================================================================\n",
      " conv2d_1 (Conv2D)           (None, 30, 30, 28)        784       \n",
      "                                                                 \n",
      " max_pooling2d_1 (MaxPooling  (None, 15, 15, 28)       0         \n",
      " 2D)                                                             \n",
      "                                                                 \n",
      " dropout (Dropout)           (None, 15, 15, 28)        0         \n",
      "                                                                 \n",
      " flatten_1 (Flatten)         (None, 6300)              0         \n",
      "                                                                 \n",
      " dense_2 (Dense)             (None, 128)               806528    \n",
      "                                                                 \n",
      " dense_3 (Dense)             (None, 10)                1290      \n",
      "                                                                 \n",
      "=================================================================\n",
      "Total params: 808,602\n",
      "Trainable params: 808,602\n",
      "Non-trainable params: 0\n",
      "_________________________________________________________________\n"
     ]
    }
   ],
   "source": [
    "model.summary()"
   ]
  },
  {
   "cell_type": "code",
   "execution_count": 31,
   "id": "0e014705",
   "metadata": {},
   "outputs": [],
   "source": [
    "model.compile(optimizer='adam', loss=tf.keras.losses.SparseCategoricalCrossentropy(from_logits=True),metrics='accuracy')"
   ]
  },
  {
   "cell_type": "code",
   "execution_count": 32,
   "id": "fd6f3e95",
   "metadata": {},
   "outputs": [
    {
     "name": "stdout",
     "output_type": "stream",
     "text": [
      "Epoch 1/10\n",
      "625/625 [==============================] - 58s 91ms/step - loss: 1.5910 - accuracy: 0.4333 - val_loss: 1.3451 - val_accuracy: 0.5313\n",
      "Epoch 2/10\n",
      "625/625 [==============================] - 54s 86ms/step - loss: 1.2869 - accuracy: 0.5433 - val_loss: 1.2908 - val_accuracy: 0.5440\n",
      "Epoch 3/10\n",
      "625/625 [==============================] - 50s 79ms/step - loss: 1.1847 - accuracy: 0.5816 - val_loss: 1.1874 - val_accuracy: 0.5863\n",
      "Epoch 4/10\n",
      "625/625 [==============================] - 51s 81ms/step - loss: 1.1220 - accuracy: 0.6061 - val_loss: 1.1799 - val_accuracy: 0.5927\n",
      "Epoch 5/10\n",
      "625/625 [==============================] - 50s 80ms/step - loss: 1.0737 - accuracy: 0.6215 - val_loss: 1.1332 - val_accuracy: 0.6074\n",
      "Epoch 6/10\n",
      "625/625 [==============================] - 46s 73ms/step - loss: 1.0282 - accuracy: 0.6361 - val_loss: 1.1390 - val_accuracy: 0.6081\n",
      "Epoch 7/10\n",
      "625/625 [==============================] - 45s 73ms/step - loss: 0.9903 - accuracy: 0.6524 - val_loss: 1.1154 - val_accuracy: 0.6150\n",
      "Epoch 8/10\n",
      "625/625 [==============================] - 45s 72ms/step - loss: 0.9539 - accuracy: 0.6661 - val_loss: 1.0990 - val_accuracy: 0.6190\n",
      "Epoch 9/10\n",
      "625/625 [==============================] - 49s 79ms/step - loss: 0.9207 - accuracy: 0.6758 - val_loss: 1.0515 - val_accuracy: 0.6385\n",
      "Epoch 10/10\n",
      "625/625 [==============================] - 50s 81ms/step - loss: 0.8899 - accuracy: 0.6888 - val_loss: 1.1051 - val_accuracy: 0.6236\n"
     ]
    }
   ],
   "source": [
    "history=model.fit(training_images, training_labels, batch_size=64, epochs=10, validation_split=0.2 )"
   ]
  },
  {
   "cell_type": "code",
   "execution_count": 33,
   "id": "d305fa51",
   "metadata": {},
   "outputs": [
    {
     "data": {
      "text/plain": [
       "<matplotlib.legend.Legend at 0x28f678c5db0>"
      ]
     },
     "execution_count": 33,
     "metadata": {},
     "output_type": "execute_result"
    },
    {
     "data": {
      "image/png": "[encoded data removed]",
      "text/plain": [
       "<Figure size 432x288 with 1 Axes>"
      ]
     },
     "metadata": {
      "needs_background": "light"
     },
     "output_type": "display_data"
    }
   ],
   "source": [
    "plt.plot(history.history['accuracy'],label='train accuracy')\n",
    "plt.plot(history.history['val_accuracy'],label='val_accuracy accuracy')\n",
    "plt.legend()"
   ]
  },
  {
   "cell_type": "code",
   "execution_count": null,
   "id": "e88b3d6b",
   "metadata": {},
   "outputs": [],
   "source": []
  }
 ],
 "metadata": {
  "kernelspec": {
   "display_name": "Python 3 (ipykernel)",
   "language": "python",
   "name": "python3"
  },
  "language_info": {
   "codemirror_mode": {
    "name": "ipython",
    "version": 3
   },
   "file_extension": ".py",
   "mimetype": "text/x-python",
   "name": "python",
   "nbconvert_exporter": "python",
   "pygments_lexer": "ipython3",
   "version": "3.10.6"
  }
 },
 "nbformat": 4,
 "nbformat_minor": 5
}
